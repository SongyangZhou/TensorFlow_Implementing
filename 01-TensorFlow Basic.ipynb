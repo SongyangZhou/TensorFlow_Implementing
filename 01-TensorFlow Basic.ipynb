{
  "nbformat": 4,
  "nbformat_minor": 0,
  "metadata": {
    "colab": {
      "provenance": [],
      "authorship_tag": "ABX9TyMxckNDoSWYrkJC98VqmRl7",
      "include_colab_link": true
    },
    "kernelspec": {
      "name": "python3",
      "display_name": "Python 3"
    },
    "language_info": {
      "name": "python"
    }
  },
  "cells": [
    {
      "cell_type": "markdown",
      "metadata": {
        "id": "view-in-github",
        "colab_type": "text"
      },
      "source": [
        "<a href=\"https://colab.research.google.com/github/SongyangZhou/TensorFlow_Implementing/blob/main/01-TensorFlow%20Basic.ipynb\" target=\"_parent\"><img src=\"https://colab.research.google.com/assets/colab-badge.svg\" alt=\"Open In Colab\"/></a>"
      ]
    },
    {
      "cell_type": "markdown",
      "source": [
        "Import TensorFlow"
      ],
      "metadata": {
        "id": "Bzbm90kRPN8e"
      }
    },
    {
      "cell_type": "code",
      "execution_count": null,
      "metadata": {
        "colab": {
          "base_uri": "https://localhost:8080/"
        },
        "id": "jBgm4dwefO-7",
        "outputId": "6868683a-b492-43e1-d402-1f6a8c5a69f4"
      },
      "outputs": [
        {
          "output_type": "stream",
          "name": "stdout",
          "text": [
            "Colab only includes TensorFlow 2.x; %tensorflow_version has no effect.\n",
            "<module 'tensorflow._api.v2.version' from '/usr/local/lib/python3.10/dist-packages/tensorflow/_api/v2/version/__init__.py'>\n"
          ]
        }
      ],
      "source": [
        "%tensorflow_version 2.x\n",
        "import tensorflow as tf\n",
        "print(tf.version)"
      ]
    },
    {
      "cell_type": "markdown",
      "source": [
        "Tensor variables"
      ],
      "metadata": {
        "id": "ZI0CD2evPZG3"
      }
    },
    {
      "cell_type": "code",
      "source": [
        "string_tensors = tf.Variable(\"this is a string tensor\", tf.string)\n",
        "number_tensors = tf.Variable(666, tf.int32)\n",
        "float_tensors = tf.Variable(3.14, tf.float64)\n",
        "print(string_tensors, number_tensors, float_tensors)"
      ],
      "metadata": {
        "colab": {
          "base_uri": "https://localhost:8080/"
        },
        "id": "7zAyge59faZt",
        "outputId": "dbe35264-91e4-4ae9-c66e-5d2aeb172990"
      },
      "execution_count": null,
      "outputs": [
        {
          "output_type": "stream",
          "name": "stdout",
          "text": [
            "<tf.Variable 'Variable:0' shape=() dtype=string, numpy=b'this is a string tensor'> <tf.Variable 'Variable:0' shape=() dtype=int32, numpy=666> <tf.Variable 'Variable:0' shape=() dtype=float32, numpy=3.14>\n"
          ]
        }
      ]
    },
    {
      "cell_type": "markdown",
      "source": [
        "Rank of a tensor\n",
        "We can simply consider the rank is the dimension of a matrix. For instance, the rank2_tensor is a 2 dimensional matrix."
      ],
      "metadata": {
        "id": "6dL6ZkL7Pb_x"
      }
    },
    {
      "cell_type": "code",
      "source": [
        "rank1_tensor = tf.Variable([1,2,3], tf.int16)\n",
        "rank2_tensor = tf.Variable([[1,2,3], [4,5,6], [7,8,9]], tf.int16)\n",
        "print(tf.rank(rank1_tensor))\n",
        "print(tf.rank(rank2_tensor))"
      ],
      "metadata": {
        "colab": {
          "base_uri": "https://localhost:8080/"
        },
        "id": "4c8biz4QhkzL",
        "outputId": "2f064494-999f-402c-9587-9f263bd8b93a"
      },
      "execution_count": null,
      "outputs": [
        {
          "output_type": "stream",
          "name": "stdout",
          "text": [
            "tf.Tensor(1, shape=(), dtype=int32)\n",
            "tf.Tensor(2, shape=(), dtype=int32)\n"
          ]
        }
      ]
    },
    {
      "cell_type": "markdown",
      "source": [
        "shape of a tensor\n",
        "Shape is the number of elements that exist in each dimension.\n"
      ],
      "metadata": {
        "id": "8yoY8MsdPj7F"
      }
    },
    {
      "cell_type": "code",
      "source": [
        "rank2_tensor.shape"
      ],
      "metadata": {
        "id": "ZLnaUmqVh6NM",
        "colab": {
          "base_uri": "https://localhost:8080/"
        },
        "outputId": "4efc2719-681f-48e7-de01-62ff3f6b3918"
      },
      "execution_count": null,
      "outputs": [
        {
          "output_type": "execute_result",
          "data": {
            "text/plain": [
              "TensorShape([3, 3])"
            ]
          },
          "metadata": {},
          "execution_count": 4
        }
      ]
    },
    {
      "cell_type": "markdown",
      "source": [
        "Matrix reshaping, which is usually used in machine learning to deal with high dimensional data."
      ],
      "metadata": {
        "id": "2t-jUGNmPsNE"
      }
    },
    {
      "cell_type": "code",
      "source": [
        "tensor1 = tf.ones([1,2,3])\n",
        "print(tensor1)\n",
        "tensor2 = tf.reshape(tensor1, [2,3,1])\n",
        "print(tensor2)\n",
        "tensor3 = tf.reshape(tensor1, [2,3])\n",
        "print(tensor3)\n",
        "\n",
        "tensor_1 = tf.Variable([[1,2,3],[4,5,6]], tf.int32)\n",
        "print(tensor_1)\n",
        "tensor_2 = tf.reshape(tensor_1, [3,2])\n",
        "print(tensor_2)\n"
      ],
      "metadata": {
        "colab": {
          "base_uri": "https://localhost:8080/"
        },
        "id": "5v6qgrvtBPcZ",
        "outputId": "9192739b-c50e-4aa2-c215-cf734233ec17"
      },
      "execution_count": null,
      "outputs": [
        {
          "output_type": "stream",
          "name": "stdout",
          "text": [
            "tf.Tensor(\n",
            "[[[1. 1. 1.]\n",
            "  [1. 1. 1.]]], shape=(1, 2, 3), dtype=float32)\n",
            "tf.Tensor(\n",
            "[[[1.]\n",
            "  [1.]\n",
            "  [1.]]\n",
            "\n",
            " [[1.]\n",
            "  [1.]\n",
            "  [1.]]], shape=(2, 3, 1), dtype=float32)\n",
            "tf.Tensor(\n",
            "[[1. 1. 1.]\n",
            " [1. 1. 1.]], shape=(2, 3), dtype=float32)\n",
            "<tf.Variable 'Variable:0' shape=(2, 3) dtype=int32, numpy=\n",
            "array([[1, 2, 3],\n",
            "       [4, 5, 6]], dtype=int32)>\n",
            "tf.Tensor(\n",
            "[[1 2]\n",
            " [3 4]\n",
            " [5 6]], shape=(3, 2), dtype=int32)\n"
          ]
        }
      ]
    },
    {
      "cell_type": "markdown",
      "source": [
        "Using slice to get a subset of a tensor."
      ],
      "metadata": {
        "id": "gAOQLcmWP4rz"
      }
    },
    {
      "cell_type": "code",
      "source": [
        "matrix_a = [[1,2,3,4],[5,6,7,8],[9,10,11,12],[13,14,15,16],[17,18,19,20]]\n",
        "print(matrix_a)\n",
        "tensor_a = tf.Variable(matrix_a,tf.int32)\n",
        "print(tensor_a)\n",
        "print(tensor_a.shape)\n",
        "\n",
        "# try slice\n",
        "three = tensor_a[0,2]\n",
        "print(three)\n",
        "row1 = tensor_a[0,:]\n",
        "print(row1)\n",
        "column1 = tensor_a[:,0]\n",
        "print(column1)\n",
        "row_2_and_4 = tensor_a[1::3,:]\n",
        "print(row_2_and_4)\n",
        "column_1_in_row_2_and_3 = tensor_a[1:3,0]\n",
        "print(column_1_in_row_2_and_3)"
      ],
      "metadata": {
        "colab": {
          "base_uri": "https://localhost:8080/"
        },
        "id": "FGDtRHilEgD_",
        "outputId": "9367e526-0dd5-4c6d-9c71-05492bd115df"
      },
      "execution_count": null,
      "outputs": [
        {
          "output_type": "stream",
          "name": "stdout",
          "text": [
            "[[1, 2, 3, 4], [5, 6, 7, 8], [9, 10, 11, 12], [13, 14, 15, 16], [17, 18, 19, 20]]\n",
            "<tf.Variable 'Variable:0' shape=(5, 4) dtype=int32, numpy=\n",
            "array([[ 1,  2,  3,  4],\n",
            "       [ 5,  6,  7,  8],\n",
            "       [ 9, 10, 11, 12],\n",
            "       [13, 14, 15, 16],\n",
            "       [17, 18, 19, 20]], dtype=int32)>\n",
            "(5, 4)\n",
            "tf.Tensor(3, shape=(), dtype=int32)\n",
            "tf.Tensor([1 2 3 4], shape=(4,), dtype=int32)\n",
            "tf.Tensor([ 1  5  9 13 17], shape=(5,), dtype=int32)\n",
            "tf.Tensor(\n",
            "[[ 5  6  7  8]\n",
            " [17 18 19 20]], shape=(2, 4), dtype=int32)\n",
            "tf.Tensor([5 9], shape=(2,), dtype=int32)\n"
          ]
        }
      ]
    }
  ]
}